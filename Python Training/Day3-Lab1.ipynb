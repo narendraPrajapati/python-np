{
 "cells": [
  {
   "cell_type": "raw",
   "id": "5decca30",
   "metadata": {},
   "source": [
    "# Q3"
   ]
  },
  {
   "cell_type": "code",
   "execution_count": 1,
   "id": "82a61bf6",
   "metadata": {},
   "outputs": [
    {
     "data": {
      "text/plain": [
       "[1, 2, 3, 4, 5, 6, 7]"
      ]
     },
     "execution_count": 1,
     "metadata": {},
     "output_type": "execute_result"
    }
   ],
   "source": [
    "x=(1,3,4,5,6,7)\n",
    "b=list(x)\n",
    "b.insert(1,2)\n",
    "b"
   ]
  },
  {
   "cell_type": "raw",
   "id": "f044b68c",
   "metadata": {},
   "source": [
    "# Q4"
   ]
  },
  {
   "cell_type": "code",
   "execution_count": 5,
   "id": "05eb5a89",
   "metadata": {},
   "outputs": [
    {
     "name": "stdout",
     "output_type": "stream",
     "text": [
      "Enter the lenth of dictionaries: 4\n",
      "Enter an integer key value: 1\n",
      "Enter a string value: a\n",
      "Enter an integer key value: 2\n",
      "Enter a string value: b\n",
      "Enter an integer key value: 3\n",
      "Enter a string value: c\n",
      "Enter an integer key value: 4\n",
      "Enter a string value: d\n",
      "{1: 'a', 2: 'b', 3: 'c', 4: 'd'}\n"
     ]
    }
   ],
   "source": [
    "length=int(input(\"Enter the lenth of dictionaries: \"))\n",
    "i=0\n",
    "thisDict={}\n",
    "while i<length:\n",
    "    inputKey=int(input(\"Enter an integer key value: \"))\n",
    "    inputValue=input(\"Enter a string value: \")\n",
    "    thisDict.update({inputKey:inputValue})\n",
    "    i=i+1\n",
    "print(thisDict)"
   ]
  },
  {
   "cell_type": "raw",
   "id": "1cc2235b",
   "metadata": {},
   "source": [
    "# Q5"
   ]
  },
  {
   "cell_type": "code",
   "execution_count": 10,
   "id": "13d220d0",
   "metadata": {},
   "outputs": [
    {
     "name": "stdout",
     "output_type": "stream",
     "text": [
      "Enter any sentenceHow old are you. I am 30\n",
      "No of Digits= 2\n",
      "No of Letters=  15\n"
     ]
    }
   ],
   "source": [
    "sentence=input(\"Enter any sentence\")\n",
    "words=sentence.split(\" \")\n",
    "countDigit=0\n",
    "countLetter=0\n",
    "for x in words:\n",
    "    for y in x:\n",
    "        if(y.isdigit()):\n",
    "            countDigit=countDigit+1\n",
    "        if(y.isalpha()):\n",
    "            countLetter=countLetter+1\n",
    "            \n",
    "print(\"No of Digits=\",countDigit)\n",
    "print(\"No of Letters= \",countLetter)"
   ]
  },
  {
   "cell_type": "raw",
   "id": "b11c8a1a",
   "metadata": {},
   "source": [
    "# Q6"
   ]
  },
  {
   "cell_type": "code",
   "execution_count": 4,
   "id": "ccdb5e00",
   "metadata": {},
   "outputs": [
    {
     "name": "stdout",
     "output_type": "stream",
     "text": [
      "Please enter the number of keys\n",
      "4\n",
      "Enter an integer value: 1\n",
      "Enter an integer value: 2\n",
      "Enter an integer value: 3\n",
      "Enter an integer value: 4\n",
      "Enter a string value: a\n",
      "Enter a string value: b\n",
      "Enter a string value: c\n",
      "Enter a string value: d\n",
      "{1: 'a', 2: 'b', 3: 'c', 4: 'd'}\n"
     ]
    }
   ],
   "source": [
    "count=int(input(\"Please enter the number of keys\\n\"))\n",
    "i=0\n",
    "thisKeys=[]\n",
    "thisValues=[]\n",
    "while i<count:\n",
    "    inputData=int(input(\"Enter an integer value: \"))\n",
    "    thisKeys.insert(i,inputData)\n",
    "    i=i+1\n",
    "\n",
    "i=0\n",
    "while i<count:\n",
    "    inputData=input(\"Enter a string value: \")\n",
    "    thisValues.insert(i,inputData)\n",
    "    i=i+1\n",
    "_dict=dict(zip(thisKeys,thisValues))\n",
    "print(_dict)"
   ]
  },
  {
   "cell_type": "raw",
   "id": "09d3b676",
   "metadata": {},
   "source": [
    "# Q7"
   ]
  },
  {
   "cell_type": "code",
   "execution_count": null,
   "id": "8138429d",
   "metadata": {},
   "outputs": [],
   "source": []
  },
  {
   "cell_type": "raw",
   "id": "5a41a560",
   "metadata": {},
   "source": [
    "# Q8"
   ]
  },
  {
   "cell_type": "code",
   "execution_count": 1,
   "id": "65b6b915",
   "metadata": {},
   "outputs": [
    {
     "name": "stdout",
     "output_type": "stream",
     "text": [
      "1\n",
      "3\n",
      "5\n",
      "7\n"
     ]
    }
   ],
   "source": [
    "A=[1,2,3,4,5,6,7,8]\n",
    "i=0\n",
    "l=len(A)\n",
    "while i<l:\n",
    "    if(i%2==0):\n",
    "        print(A[i])\n",
    "    i=i+1"
   ]
  },
  {
   "cell_type": "code",
   "execution_count": null,
   "id": "98a81fef",
   "metadata": {},
   "outputs": [],
   "source": []
  },
  {
   "cell_type": "code",
   "execution_count": null,
   "id": "ea193320",
   "metadata": {},
   "outputs": [],
   "source": []
  }
 ],
 "metadata": {
  "kernelspec": {
   "display_name": "Python 3",
   "language": "python",
   "name": "python3"
  },
  "language_info": {
   "codemirror_mode": {
    "name": "ipython",
    "version": 3
   },
   "file_extension": ".py",
   "mimetype": "text/x-python",
   "name": "python",
   "nbconvert_exporter": "python",
   "pygments_lexer": "ipython3",
   "version": "3.8.8"
  }
 },
 "nbformat": 4,
 "nbformat_minor": 5
}
